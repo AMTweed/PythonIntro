{
 "cells": [
  {
   "cell_type": "markdown",
   "id": "b969f457-d013-4559-9c0a-72e5f3c5e0fe",
   "metadata": {
    "tags": []
   },
   "source": [
    "# Python Introduction\n",
    "\n",
    "## Working with Data\n",
    "\n",
    "### Variables\n",
    "When a program runs, any data that it uses must be stored in **RAM**. A variable is a name made up by the programmer to identify the address in RAM where a particular piece of data is stored.\n",
    "\n",
    "| Data Type | Used for storing |\n",
    "| ------------|-----------------------------------------|\n",
    "| **Integer** | Whole numbers e.g. 4, 10, -12 |\n",
    "| **Real** | Numbers with decimal places e.g. 3.14 |\n",
    "| **Character** | One character e.g. 'a', 'z', '9', '@' |\n",
    "| **String** | Text e.g. 'Hello World!' |\n",
    "| **Boolean** | True or False |\n",
    "\n",
    "### Declaring Variables\n",
    "To declare a variable means to tell Python two things about it:\n",
    " 1. Its name\n",
    " 2. Its initial value\n",
    " \n",
    " \n",
    "`age = 14`\n",
    "\n",
    "`weight = 55.25`\n",
    "\n",
    "`firstInitial = 'A'`\n",
    "\n",
    "`surname = 'Mason'`\n",
    "\n",
    "`ownsCar = True`\n",
    "\n",
    "When naming variables there are some rules that you must follow:\n",
    "- Must begin with a letter (a-z, A-B) or underscore (_)\n",
    "There are some reserved words which you cannot use as a variable name because Python uses them for other things.\n",
    "\n",
    "There are also some **good practices** that programmers should try to abide by\n",
    "- numPupils is meaningful instead of np.\n",
    "- Be consistent – num_pupils or numPupils \n",
    "\n",
    "## Practical Activity 1 - Input and Output\n",
    "\n",
    "### Program Specification\n",
    "Your task is to create a program that will allow the user to enter their name and age. The program will then display a message.\n",
    "\n",
    "```\n",
    "\n",
    "name = input('What is your name?  ')\n",
    "age = int(input('What is your age? '))\n",
    "print ()\n",
    "print ('***************************************')\n",
    "print('Hello World! ')\n",
    "print('Hello', name, 'it is nice to meet you.')\n",
    "print(name, 'is', age, 'years old')\n",
    "\n",
    "```"
   ]
  },
  {
   "cell_type": "code",
   "execution_count": 4,
   "id": "e649670a-8b2b-4ac8-b5e3-5a55e17daf30",
   "metadata": {
    "tags": []
   },
   "outputs": [],
   "source": [
    "# Enter the code in this box below these comments\n",
    "# Click the triangular 'play' button to run the code.\n",
    "# The output from the program will appear below this box\n"
   ]
  },
  {
   "cell_type": "markdown",
   "id": "6fea7ad9-6a3a-41bf-8bad-6889ff716512",
   "metadata": {},
   "source": [
    "### Challenge\n",
    "Adapt the program to take in the title of your favourite computer game and favourite colour and display an appropriate message."
   ]
  },
  {
   "cell_type": "code",
   "execution_count": null,
   "id": "7587994a-ba4f-416b-8fbd-486b88b082fd",
   "metadata": {},
   "outputs": [],
   "source": []
  }
 ],
 "metadata": {
  "kernelspec": {
   "display_name": "Python 3 (ipykernel)",
   "language": "python",
   "name": "python3"
  },
  "language_info": {
   "codemirror_mode": {
    "name": "ipython",
    "version": 3
   },
   "file_extension": ".py",
   "mimetype": "text/x-python",
   "name": "python",
   "nbconvert_exporter": "python",
   "pygments_lexer": "ipython3",
   "version": "3.10.0"
  }
 },
 "nbformat": 4,
 "nbformat_minor": 5
}
